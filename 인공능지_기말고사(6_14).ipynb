{
  "nbformat": 4,
  "nbformat_minor": 0,
  "metadata": {
    "colab": {
      "private_outputs": true,
      "provenance": [],
      "authorship_tag": "ABX9TyPGGa1hVvnDv1jqvTbh1JpR",
      "include_colab_link": true
    },
    "kernelspec": {
      "name": "python3",
      "display_name": "Python 3"
    },
    "language_info": {
      "name": "python"
    }
  },
  "cells": [
    {
      "cell_type": "markdown",
      "metadata": {
        "id": "view-in-github",
        "colab_type": "text"
      },
      "source": [
        "<a href=\"https://colab.research.google.com/github/tlsgptj/AI_-/blob/main/%EC%9D%B8%EA%B3%B5%EB%8A%A5%EC%A7%80_%EA%B8%B0%EB%A7%90%EA%B3%A0%EC%82%AC(6_14).ipynb\" target=\"_parent\"><img src=\"https://colab.research.google.com/assets/colab-badge.svg\" alt=\"Open In Colab\"/></a>"
      ]
    },
    {
      "cell_type": "code",
      "execution_count": null,
      "metadata": {
        "id": "my2M2iybAKZ1"
      },
      "outputs": [],
      "source": [
        "import matplotlib as plt\n",
        "import numpy as np\n",
        "import pandas as pd"
      ]
    },
    {
      "cell_type": "code",
      "source": [
        "df = pd.read_csv(\"/content/전력 revenge3.csv\")"
      ],
      "metadata": {
        "id": "guhq25pP8InD"
      },
      "execution_count": null,
      "outputs": []
    },
    {
      "cell_type": "code",
      "source": [
        "df.head()"
      ],
      "metadata": {
        "id": "D8BM3nSH8R4p"
      },
      "execution_count": null,
      "outputs": []
    },
    {
      "cell_type": "code",
      "source": [
        "df.tail()"
      ],
      "metadata": {
        "id": "VdEKmKQXtMpM"
      },
      "execution_count": null,
      "outputs": []
    },
    {
      "cell_type": "code",
      "source": [
        "df.info()"
      ],
      "metadata": {
        "id": "KNt7QIRo5MwA"
      },
      "execution_count": null,
      "outputs": []
    },
    {
      "cell_type": "code",
      "source": [
        "df.describe()"
      ],
      "metadata": {
        "id": "yoc739v55RXs"
      },
      "execution_count": null,
      "outputs": []
    },
    {
      "cell_type": "code",
      "source": [
        "df.isna().sum()"
      ],
      "metadata": {
        "id": "y0szl92N8dC4"
      },
      "execution_count": null,
      "outputs": []
    },
    {
      "cell_type": "code",
      "source": [
        "# prompt: df DataFrame 사용: hisplot\n",
        "\n",
        "import seaborn as sns\n",
        "sns.histplot(data=df, x=\"Electricity demand\", bins=10)\n"
      ],
      "metadata": {
        "id": "MYzX0VD4sybl"
      },
      "execution_count": null,
      "outputs": []
    },
    {
      "source": [
        "# @title Daily Fluctuations in Electricity Demand\n",
        "\n",
        "import matplotlib.pyplot as plt\n",
        "\n",
        "# Group the data by day and calculate the average electricity demand\n",
        "df_daily = df.groupby('day')['Electricity demand'].mean()\n",
        "\n",
        "# Plot the line chart\n",
        "plt.plot(df_daily.index, df_daily.values)\n",
        "\n",
        "# Set the title and labels\n",
        "plt.title('Daily Fluctuations in Electricity Demand')\n",
        "plt.xlabel('Day of Month')\n",
        "_ = plt.ylabel('Average Electricity Demand')\n"
      ],
      "cell_type": "code",
      "execution_count": null,
      "outputs": [],
      "metadata": {
        "id": "s95KQajusl1S"
      }
    },
    {
      "source": [
        "# @title Electricity Demand in Major Cities Over Time\n",
        "\n",
        "import matplotlib.pyplot as plt\n",
        "\n",
        "# Group the data by year and calculate the average electricity demand for each city\n",
        "df_grouped = df.groupby('year')[['Gwang ju', 'Busan', 'Seoul']].mean()\n",
        "\n",
        "# Plot the line chart\n",
        "plt.plot(df_grouped.index, df_grouped['Gwang ju'], label='Gwang ju')\n",
        "plt.plot(df_grouped.index, df_grouped['Busan'], label='Busan')\n",
        "plt.plot(df_grouped.index, df_grouped['Seoul'], label='Seoul')\n",
        "\n",
        "# Set the title and labels\n",
        "plt.title('Electricity Demand in Major Cities Over Time')\n",
        "plt.xlabel('Year')\n",
        "plt.ylabel('Average Electricity Demand')\n",
        "\n",
        "# Add a legend\n",
        "_ = plt.legend()\n"
      ],
      "cell_type": "code",
      "execution_count": null,
      "outputs": [],
      "metadata": {
        "id": "ejoO-QWFsXNs"
      }
    },
    {
      "source": [
        "# @title Monthly Electricity Demand Trends\n",
        "import matplotlib.pyplot as plt\n",
        "\n",
        "plt.figure(figsize=(12, 6))\n",
        "for year in df['year'].unique():\n",
        "    df_year = df[df['year'] == year]\n",
        "    plt.plot(df_year.groupby('monty')['Electricity demand'].mean(), label=year)\n",
        "\n",
        "plt.xlabel('Month')\n",
        "plt.ylabel('Average Electricity Demand')\n",
        "plt.title('Monthly Electricity Demand Trends')\n",
        "_ = plt.legend()\n",
        "#월별 전력량 그래프"
      ],
      "cell_type": "code",
      "execution_count": null,
      "outputs": [],
      "metadata": {
        "id": "4KAEiMOq8ey7"
      }
    },
    {
      "cell_type": "code",
      "source": [
        "from keras.models import Sequential\n",
        "from keras.layers import Dense, LSTM, Dropout\n",
        "from sklearn.model_selection import train_test_split\n",
        "from sklearn.preprocessing import StandardScaler\n",
        "import numpy as np\n",
        "import pandas as pd"
      ],
      "metadata": {
        "id": "-193gXfi8VoQ"
      },
      "execution_count": null,
      "outputs": []
    },
    {
      "cell_type": "code",
      "source": [
        "#MLP방식으로 한번해보고, RNN사용해보고, LSTM + CNN 섞어서 한번 해보고\n",
        "#Scikit-learn, XGBoost, LightGBM, CatBoost"
      ],
      "metadata": {
        "id": "zDkQeijkrvqR"
      },
      "execution_count": null,
      "outputs": []
    },
    {
      "cell_type": "code",
      "source": [
        "#데이터 정규화\n",
        "df[\"전력 정규화\"] = df[\"Electricity demand\"].astype(float)/abs(df[\"Electricity demand\"].astype(float).max())\n",
        "df[[\"전력 정규화\", \"Electricity demand\"]].head(20)"
      ],
      "metadata": {
        "id": "niZhI6jFzlM-"
      },
      "execution_count": null,
      "outputs": []
    },
    {
      "cell_type": "code",
      "source": [
        "df[\"전력 정규화\"].tail(20)"
      ],
      "metadata": {
        "id": "m4WIICryfPY6"
      },
      "execution_count": null,
      "outputs": []
    },
    {
      "cell_type": "code",
      "source": [
        "df[\"광주 정규화\"] = df[\"Gwang ju\"].astype(float)/abs(df[\"Gwang ju\"].astype(float).max())\n",
        "df[[\"광주 정규화\", \"Gwang ju\"]].head()"
      ],
      "metadata": {
        "id": "TKud9UPM03NI"
      },
      "execution_count": null,
      "outputs": []
    },
    {
      "cell_type": "code",
      "source": [
        "df[\"서울 정규화\"] = df[\"Seoul\"].astype(float)/abs(df[\"Seoul\"].astype(float).max())\n",
        "df[[\"서울 정규화\", \"Seoul\"]].head()"
      ],
      "metadata": {
        "id": "Fu_GX5TV88bU"
      },
      "execution_count": null,
      "outputs": []
    },
    {
      "cell_type": "code",
      "source": [
        "df[\"부산 정규화\"] = df[\"Busan\"].astype(float)/abs(df[\"Busan\"].astype(float).max())\n",
        "df[[\"부산 정규화\", \"Busan\"]].head()"
      ],
      "metadata": {
        "id": "77Fl9GLn9uGK"
      },
      "execution_count": null,
      "outputs": []
    },
    {
      "cell_type": "code",
      "source": [
        "#MLP방식\n",
        "import tensorflow as tf\n",
        "from tensorflow import keras"
      ],
      "metadata": {
        "id": "4CP2pRb596p6"
      },
      "execution_count": null,
      "outputs": []
    },
    {
      "cell_type": "code",
      "source": [
        "data = df['서울 정규화']\n",
        "target = df['전력 정규화']"
      ],
      "metadata": {
        "id": "Tn1A-in1Atur"
      },
      "execution_count": null,
      "outputs": []
    },
    {
      "cell_type": "code",
      "source": [
        "df_1 = pd.DataFrame({'data':  data, 'target': target})"
      ],
      "metadata": {
        "id": "2HJA_c-nANIS"
      },
      "execution_count": null,
      "outputs": []
    },
    {
      "cell_type": "code",
      "source": [
        "window_size = 10\n",
        "x = []\n",
        "y = []\n",
        "for i in range(len(df) - window_size):\n",
        "  x.append(df_1['data'].astype(int).iloc[i:i+window_size].values)\n",
        "  y.append(df_1['target'].astype(int).iloc[i+window_size])\n",
        "x = np.array(x)\n",
        "y = np.array(y)"
      ],
      "metadata": {
        "id": "hLsxokjAAZzq"
      },
      "execution_count": null,
      "outputs": []
    },
    {
      "cell_type": "code",
      "source": [
        "train_size = int(len(x) * 0.8)\n",
        "x_train, x_test = x[:train_size], x[train_size:]\n",
        "y_train, y_test = y[:train_size], y[train_size:]\n",
        "\n",
        "model = keras.Sequential([\n",
        "    keras.layers.Dense(64, activation='relu', input_shape = (window_size,)),\n",
        "    keras.layers.Dense(32, activation='relu'),\n",
        "    keras.layers.Dense(1)\n",
        "])\n",
        "\n",
        "model.compile(optimizer='adam', loss= 'mse')\n",
        "model.fit(x_train, y_train, epochs=100, batch_size=64, verbose=1)"
      ],
      "metadata": {
        "id": "MLDW3yjYBu9s"
      },
      "execution_count": null,
      "outputs": []
    },
    {
      "cell_type": "code",
      "source": [
        "test_loss = model.evaluate(x_test, y_test)\n",
        "print('Test loss:', test_loss)"
      ],
      "metadata": {
        "id": "6LRvzwTdDTJR"
      },
      "execution_count": null,
      "outputs": []
    },
    {
      "cell_type": "markdown",
      "source": [
        "12/12 [==============================] - 0s 2ms/step - loss: 0.0027\n",
        "Test loss: 0.0027484421152621508"
      ],
      "metadata": {
        "id": "oVV76PfDD5K-"
      }
    },
    {
      "cell_type": "code",
      "source": [
        "last_window = df_1['data'].iloc[-window_size:].values\n",
        "next_value = model.predict(np.expand_dims(last_window, axis=0))\n",
        "print('Next value prediction:', next_value)\n",
        "#64로 하니가 0.0152라는 값 도출, 32로 했을 때 -값이 나와 정확도의 의문점을 가짐"
      ],
      "metadata": {
        "id": "7vYLCE_WDiYr"
      },
      "execution_count": null,
      "outputs": []
    },
    {
      "cell_type": "code",
      "source": [
        "data = df['부산 정규화']\n",
        "target = df['전력 정규화']"
      ],
      "metadata": {
        "id": "RgeZrEt-D2xL"
      },
      "execution_count": null,
      "outputs": []
    },
    {
      "cell_type": "code",
      "source": [
        "df_2 = pd.DataFrame({'data':  data, 'target': target})"
      ],
      "metadata": {
        "id": "HpHRhT1VE0da"
      },
      "execution_count": null,
      "outputs": []
    },
    {
      "cell_type": "code",
      "source": [
        "window_size = 10\n",
        "x = []\n",
        "y = []\n",
        "for i in range(len(df) - window_size):\n",
        "  x.append(df_1['data'].astype(int).iloc[i:i+window_size].values)\n",
        "  y.append(df_1['target'].astype(int).iloc[i+window_size])\n",
        "x = np.array(x)\n",
        "y = np.array(y)"
      ],
      "metadata": {
        "id": "TxqnH45CE28n"
      },
      "execution_count": null,
      "outputs": []
    },
    {
      "cell_type": "code",
      "source": [
        "train_size = int(len(x) * 0.8)\n",
        "x_train, x_test = x[:train_size], x[train_size:]\n",
        "y_train, y_test = y[:train_size], y[train_size:]\n",
        "\n",
        "model = keras.Sequential([\n",
        "    keras.layers.Dense(64, activation='relu', input_shape = (window_size,)),\n",
        "    keras.layers.Dense(32, activation='relu'),\n",
        "    keras.layers.Dense(1)\n",
        "])\n",
        "\n",
        "model.compile(optimizer='adam', loss= 'mse')\n",
        "model.fit(x_train, y_train, epochs=100, batch_size=32, verbose=1)"
      ],
      "metadata": {
        "id": "QnuVo6WbE54u"
      },
      "execution_count": null,
      "outputs": []
    },
    {
      "cell_type": "code",
      "source": [
        "test_loss = model.evaluate(x_test, y_test)\n",
        "print('Test loss:', test_loss)"
      ],
      "metadata": {
        "id": "R7DySjpKE88L"
      },
      "execution_count": null,
      "outputs": []
    },
    {
      "cell_type": "code",
      "source": [
        "last_window = df_2['data'].iloc[-window_size:].values\n",
        "next_value = model.predict(np.expand_dims(last_window, axis=0))\n",
        "print('Next value prediction:', next_value)\n",
        "#batch_size = 32 epoch = 100으로 했을 때 0.018이라는 가장 적합한 값이 나왔음"
      ],
      "metadata": {
        "id": "2ygt7I3gFJkn"
      },
      "execution_count": null,
      "outputs": []
    },
    {
      "cell_type": "code",
      "source": [
        "data = df['광주 정규화']\n",
        "target = df['전력 정규화']"
      ],
      "metadata": {
        "id": "XiZ0RZ_8FQ1T"
      },
      "execution_count": null,
      "outputs": []
    },
    {
      "cell_type": "code",
      "source": [
        "df_3 = pd.DataFrame({'data':  data, 'target': target})"
      ],
      "metadata": {
        "id": "eiC0ZYnaGrvH"
      },
      "execution_count": null,
      "outputs": []
    },
    {
      "cell_type": "code",
      "source": [
        "window_size = 50\n",
        "x = []\n",
        "y = []\n",
        "for i in range(len(df) - window_size):\n",
        "  x.append(df_1['data'].astype(int).iloc[i:i+window_size].values)\n",
        "  y.append(df_1['target'].astype(int).iloc[i+window_size])\n",
        "x = np.array(x)\n",
        "y = np.array(y)"
      ],
      "metadata": {
        "id": "UWEd0-0SGvFd"
      },
      "execution_count": null,
      "outputs": []
    },
    {
      "cell_type": "code",
      "source": [
        "train_size = int(len(x) * 0.8)\n",
        "x_train, x_test = x[:train_size], x[train_size:]\n",
        "y_train, y_test = y[:train_size], y[train_size:]\n",
        "\n",
        "model = keras.Sequential([\n",
        "    keras.layers.Dense(64, activation='relu', input_shape = (window_size,)),\n",
        "    keras.layers.Dense(32, activation='relu'),\n",
        "    keras.layers.Dense(1)\n",
        "])\n",
        "\n",
        "model.compile(optimizer='adam', loss= 'mse')\n",
        "model.fit(x_train, y_train, epochs=200, batch_size=32, verbose=1)"
      ],
      "metadata": {
        "id": "2aX8Bc1wGxsw"
      },
      "execution_count": null,
      "outputs": []
    },
    {
      "cell_type": "code",
      "source": [
        "test_loss = model.evaluate(x_test, y_test)\n",
        "print('Test loss:', test_loss)"
      ],
      "metadata": {
        "id": "hKQQQTtVG0Yr"
      },
      "execution_count": null,
      "outputs": []
    },
    {
      "cell_type": "code",
      "source": [
        "last_window = df_3['data'].iloc[-window_size:].values\n",
        "next_value = model.predict(np.expand_dims(last_window, axis=0))\n",
        "print('Next value prediction:', next_value)\n",
        "#window_size = 50 batch_size = 32, epoches = 200 일때 가장 적합한 값이 도출됨 ==> 다른 값의 경우 음수가 도출됨"
      ],
      "metadata": {
        "id": "GQuVVMpgG9LG"
      },
      "execution_count": null,
      "outputs": []
    },
    {
      "cell_type": "code",
      "source": [
        "#이번에는 모델을 바꿔서 MLP가 아닌 RNN으로 전력값을 도출해보기로 함\n",
        "#RNN import => RNN모델의 다대일 구조를 활용하여, 날짜, 기온등을 종합적으로 분석하여 전력량을 예측해보기로 함\n",
        "from keras.models import Sequential\n",
        "from keras.layers import Dense, SimpleRNN\n",
        "#RNN모델은 다대일, 다대다, 일대다로 구성되어 있음\n",
        "#이 모델에서 가장 알맞은 것은 다대일이라고 판단 : 입력 데이터가 많고 출력 데이터는 하나이기 때문\n",
        "#입력 데이터 : 날짜, 각 지역별 기온 데이터 / 출력 데이터 : 전력 사용량 데이터"
      ],
      "metadata": {
        "id": "tF69DuWpG_98"
      },
      "execution_count": null,
      "outputs": []
    },
    {
      "cell_type": "code",
      "source": [
        "x_train = df[['광주 정규화','서울 정규화', '부산 정규화']]\n",
        "y_train = df['전력 정규화']"
      ],
      "metadata": {
        "id": "4njxic3LJ7sY"
      },
      "execution_count": null,
      "outputs": []
    },
    {
      "cell_type": "code",
      "source": [
        "import tensorflow as tf\n",
        "tf.keras.backend.clear_session()\n",
        "\n",
        "# Reshape x_train to 3D: (samples, timesteps, features)\n",
        "x_train_reshaped = x_train.values.reshape(x_train.shape[0], 1, x_train.shape[1])\n",
        "\n",
        "# 모델 구축\n",
        "model = Sequential()\n",
        "model.add(LSTM(3, input_shape=(x_train_reshaped.shape[1], x_train_reshaped.shape[2])))  # Use the reshaped input shape\n",
        "model.add(Dense(1))  # 출력층: 전력량 예측\n",
        "\n",
        "model.compile(optimizer='adam', loss='mean_squared_error')"
      ],
      "metadata": {
        "id": "8kfXhK1uKNI8"
      },
      "execution_count": null,
      "outputs": []
    },
    {
      "cell_type": "code",
      "source": [
        "model.fit(x_train_reshaped, y_train, epochs=50, batch_size=1) # Pass the reshaped x_train to model.fit"
      ],
      "metadata": {
        "id": "UA_1BLRhp8it"
      },
      "execution_count": null,
      "outputs": []
    },
    {
      "cell_type": "code",
      "source": [
        "import tensorflow as tf\n",
        "from tensorflow.keras.layers import Dropout\n",
        "import matplotlib.pyplot as plt # Import matplotlib for plotting\n",
        "\n",
        "tf.keras.backend.clear_session()\n",
        "\n",
        "# Reshape x_train to 3D: (samples, timesteps, features)\n",
        "x_train_reshaped = x_train.values.reshape(x_train.shape[0], 1, x_train.shape[1])\n",
        "\n",
        "# 모델 수정: 드롭아웃 레이어 추가\n",
        "model = Sequential()\n",
        "model.add(LSTM(3, input_shape=(x_train_reshaped.shape[1], x_train_reshaped.shape[2])))\n",
        "model.add(Dropout(0.2))  # 드롭아웃 비율 20%\n",
        "model.add(Dense(1))\n",
        "\n",
        "model.compile(optimizer='adam', loss='mean_squared_error')\n",
        "\n",
        "# 모델 훈련\n",
        "history = model.fit(x_train_reshaped, y_train, epochs=50, batch_size=1, validation_split=0.2)\n",
        "\n",
        "# 학습 곡선 그리기\n",
        "train_loss = history.history['loss']\n",
        "val_loss = history.history['val_loss']\n",
        "plt.plot(train_loss, label='Training Loss')\n",
        "plt.plot(val_loss, label='Validation Loss')\n",
        "plt.legend()\n",
        "plt.show()\n"
      ],
      "metadata": {
        "id": "APPUNq6Qp9cv"
      },
      "execution_count": null,
      "outputs": []
    },
    {
      "cell_type": "code",
      "source": [
        "#결과를 도출해봤는데 overfitting 느낌임 다른 알고리즘을 고려해봐야겠음"
      ],
      "metadata": {
        "id": "0W_AtFF7xucK"
      },
      "execution_count": null,
      "outputs": []
    },
    {
      "cell_type": "code",
      "source": [
        "#xgboost"
      ],
      "metadata": {
        "id": "fKuTDreIxxlP"
      },
      "execution_count": null,
      "outputs": []
    }
  ]
}