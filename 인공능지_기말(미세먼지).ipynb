{
  "nbformat": 4,
  "nbformat_minor": 0,
  "metadata": {
    "colab": {
      "private_outputs": true,
      "provenance": [],
      "authorship_tag": "ABX9TyNieJOiUbve8r/48WnOJX5A",
      "include_colab_link": true
    },
    "kernelspec": {
      "name": "python3",
      "display_name": "Python 3"
    },
    "language_info": {
      "name": "python"
    }
  },
  "cells": [
    {
      "cell_type": "markdown",
      "metadata": {
        "id": "view-in-github",
        "colab_type": "text"
      },
      "source": [
        "<a href=\"https://colab.research.google.com/github/tlsgptj/AI_-/blob/main/%EC%9D%B8%EA%B3%B5%EB%8A%A5%EC%A7%80_%EA%B8%B0%EB%A7%90(%EB%AF%B8%EC%84%B8%EB%A8%BC%EC%A7%80).ipynb\" target=\"_parent\"><img src=\"https://colab.research.google.com/assets/colab-badge.svg\" alt=\"Open In Colab\"/></a>"
      ]
    },
    {
      "cell_type": "code",
      "execution_count": null,
      "metadata": {
        "id": "FV6IFu3SaErO"
      },
      "outputs": [],
      "source": [
        "import pandas as pd\n",
        "import numpy as np\n",
        "import matplotlib.pyplot as plt\n",
        "import warnings\n",
        "import seaborn as sns\n",
        "warnings.filterwarnings('ignore')"
      ]
    },
    {
      "cell_type": "code",
      "source": [
        "df = pd.read_csv('/content/Finddust1.csv')"
      ],
      "metadata": {
        "id": "uaC9_Bk6aj1S"
      },
      "execution_count": null,
      "outputs": []
    },
    {
      "cell_type": "code",
      "source": [
        "df.head()"
      ],
      "metadata": {
        "id": "UWbYKib4bOFN"
      },
      "execution_count": null,
      "outputs": []
    },
    {
      "cell_type": "code",
      "source": [
        "df.describe()"
      ],
      "metadata": {
        "id": "Vkd64N65bQCo"
      },
      "execution_count": null,
      "outputs": []
    },
    {
      "cell_type": "code",
      "source": [
        "df.columns"
      ],
      "metadata": {
        "id": "lBDFmFAWbWgF"
      },
      "execution_count": null,
      "outputs": []
    },
    {
      "cell_type": "code",
      "source": [
        "df.info()"
      ],
      "metadata": {
        "id": "-njhxcAobaEv"
      },
      "execution_count": null,
      "outputs": []
    },
    {
      "cell_type": "code",
      "source": [
        "df.isna().sum()"
      ],
      "metadata": {
        "id": "5bIh7aHcbcGq"
      },
      "execution_count": null,
      "outputs": []
    },
    {
      "cell_type": "code",
      "source": [
        "#미세먼지를 예측하기 위해서 필요없는 컬럼은 다 삭제해준다.\n",
        "df = df.drop(['WestSeoul_TG_out', 'WestSeoul_TG_in',\n",
        "               'Seoul_TG_out', 'Seoul_TG_in', 'Gunja_TG_out',\n",
        "               'Gunja_TG_in', 'Localpressure_seoul', 'Localpressure_incheon',\n",
        "               'Localpressure_suwon', 'Sunshine_seoul', 'Sunshine_incheon',\n",
        "               'Sunshine_suwon', 'Snowfall_seoul', 'Snowfall_incheon',\n",
        "               'Snowfall_suwon'], axis=1, errors='ignore')"
      ],
      "metadata": {
        "id": "KcpfmZctbfaM"
      },
      "execution_count": null,
      "outputs": []
    },
    {
      "cell_type": "code",
      "source": [
        "df.head(20)"
      ],
      "metadata": {
        "id": "a3XISPh0snAQ"
      },
      "execution_count": null,
      "outputs": []
    },
    {
      "cell_type": "code",
      "source": [
        "df = df.drop(['Rain_seoul', 'Insolation_seoul', 'Snowfal_suwon', 'Rain_ansan'], axis=1, errors='ignore')"
      ],
      "metadata": {
        "id": "5Hx5QWwuuaXB"
      },
      "execution_count": null,
      "outputs": []
    },
    {
      "cell_type": "code",
      "source": [
        "df"
      ],
      "metadata": {
        "id": "PYaSejTDvDUM"
      },
      "execution_count": null,
      "outputs": []
    },
    {
      "cell_type": "code",
      "source": [
        "df = df.drop(['Insolation_suwon'], axis=1, errors='ignore')"
      ],
      "metadata": {
        "id": "Gz-fTV1LvEDG"
      },
      "execution_count": null,
      "outputs": []
    },
    {
      "cell_type": "code",
      "source": [
        "df"
      ],
      "metadata": {
        "id": "YunlYHu7vQYk"
      },
      "execution_count": null,
      "outputs": []
    },
    {
      "cell_type": "code",
      "source": [
        "df.info()"
      ],
      "metadata": {
        "id": "dr9S3LGOvVC9"
      },
      "execution_count": null,
      "outputs": []
    },
    {
      "cell_type": "code",
      "source": [
        "# 정규화\n",
        "df[\"Ozone_seoul\"] = df[\"Ozone_seoul\"].astype(float) / abs(df[\"Ozone_seoul\"].astype(float).max())\n",
        "df[[\"Ozone_seoul\"]].head(20)"
      ],
      "metadata": {
        "id": "-ic1mUAy6PNz"
      },
      "execution_count": null,
      "outputs": []
    },
    {
      "cell_type": "code",
      "source": [
        "df[\"seoul_PM10\"] = df[\"seoul_PM10\"].astype(float) / abs(df[\"seoul_PM10\"].astype(float).max())\n",
        "df[[\"seoul_PM10\"]].head(20)"
      ],
      "metadata": {
        "id": "Pw3dfhW87nQg"
      },
      "execution_count": null,
      "outputs": []
    },
    {
      "cell_type": "code",
      "source": [
        "df[\"Sealevelpressure_seoul\"] = df[\"Sealevelpressure_seoul\"].astype(float) / abs(df[\"Sealevelpressure_seoul\"].astype(float).max())\n",
        "df[[\"Sealevelpressure_seoul\"]].head(20)"
      ],
      "metadata": {
        "id": "aPfFkJhj8V6S"
      },
      "execution_count": null,
      "outputs": []
    },
    {
      "cell_type": "code",
      "source": [
        "df[\"Humidity_seoul\"] = df[\"Humidity_seoul\"].astype(float) / abs(df[\"Humidity_seoul\"].astype(float).max())\n",
        "df[[\"Humidity_seoul\"]].head(20)"
      ],
      "metadata": {
        "id": "RMyCRJUb8VVj"
      },
      "execution_count": null,
      "outputs": []
    },
    {
      "cell_type": "code",
      "source": [
        "df[\"Winddirection_seoul\"] = df[\"Winddirection_seoul\"].astype(float) / abs(df[\"Winddirection_seoul\"].astype(float).max())\n",
        "df[[\"Winddirection_seoul\"]].head(20)"
      ],
      "metadata": {
        "id": "v5_mpyC68UWS"
      },
      "execution_count": null,
      "outputs": []
    },
    {
      "cell_type": "code",
      "source": [
        "df[\"suwon_PM10\"] = df[\"suwon_PM10\"].astype(float) / abs(df[\"suwon_PM10\"].astype(float).max())\n",
        "df[[\"suwon_PM10\"]].head(20)"
      ],
      "metadata": {
        "id": "78Jta5cp8xon"
      },
      "execution_count": null,
      "outputs": []
    },
    {
      "cell_type": "code",
      "source": [
        "df[\"incheon_PM10\"] = df[\"incheon_PM10\"].astype(float) / abs(df[\"incheon_PM10\"].astype(float).max())\n",
        "df[[\"incheon_PM10\"]].head(20)"
      ],
      "metadata": {
        "id": "GGWxPSDm9FI6"
      },
      "execution_count": null,
      "outputs": []
    },
    {
      "cell_type": "code",
      "source": [
        "df[\"ansan_PM10\"] = df[\"ansan_PM10\"].astype(float) / abs(df[\"ansan_PM10\"].astype(float).max())\n",
        "df[[\"ansan_PM10\"]].head(20)"
      ],
      "metadata": {
        "id": "oQgqL5uP9ade"
      },
      "execution_count": null,
      "outputs": []
    },
    {
      "cell_type": "code",
      "source": [
        "df[\"Windirection_ansan\"] = df[\"Windirection_ansan\"].astype(float) / abs(df[\"Windirection_ansan\"].astype(float).max())\n",
        "df[\"windspeed_ansan\"] = df[\"windspeed_ansan\"].astype(float) / abs(df[\"windspeed_ansan\"].astype(float).max())\n",
        "df[\"Sealevelpressure_suwon\"] = df[\"Sealevelpressure_suwon\"].astype(float) / abs(df[\"Sealevelpressure_suwon\"].astype(float).max())\n",
        "df[\"Humidity_suwon\"] = df[\"Humidity_suwon\"].astype(float) / abs(df[\"Humidity_suwon\"].astype(float).max())\n",
        "df[\"Humidity_ansan\"] = df[\"Humidity_ansan\"].astype(float) / abs(df[\"Humidity_ansan\"].astype(float).max())\n",
        "df.head()"
      ],
      "metadata": {
        "id": "dmq2KyO6-LgP"
      },
      "execution_count": null,
      "outputs": []
    },
    {
      "cell_type": "code",
      "source": [
        "df = df.drop(['Genja_TG_in', 'Winddirection_suwon', 'Windspeed_suwon', 'Rain_suwon'], axis=1, errors='ignore')"
      ],
      "metadata": {
        "id": "lY_Ii0Fg98F5"
      },
      "execution_count": null,
      "outputs": []
    },
    {
      "cell_type": "code",
      "source": [
        "df.head()"
      ],
      "metadata": {
        "id": "exu_uJ6a6xOM"
      },
      "execution_count": null,
      "outputs": []
    },
    {
      "cell_type": "markdown",
      "source": [
        "EDA"
      ],
      "metadata": {
        "id": "dNO7BeF5JwcT"
      }
    },
    {
      "cell_type": "code",
      "source": [
        "import pandas as pd\n",
        "import matplotlib.pyplot as plt\n",
        "import datetime\n",
        "\n",
        "if not pd.api.types.is_datetime64_any_dtype(df['date']):\n",
        "    df['date'] = pd.to_datetime(df['date'])\n",
        "\n",
        "df['year'] = df['date'].dt.year\n",
        "\n",
        "yearly_pm10 = df.groupby('year')[['seoul_PM10', 'incheon_PM10', 'suwon_PM10', 'ansan_PM10']].mean()\n",
        "\n",
        "plt.figure(figsize=(12, 6))\n",
        "plt.plot(yearly_pm10.index, yearly_pm10['seoul_PM10'], marker='o', label='Seoul')\n",
        "plt.plot(yearly_pm10.index, yearly_pm10['incheon_PM10'], marker='o', label='Incheon')\n",
        "plt.plot(yearly_pm10.index, yearly_pm10['suwon_PM10'], marker='o', label='Suwon')\n",
        "plt.plot(yearly_pm10.index, yearly_pm10['ansan_PM10'], marker='o', label='Ansan')\n",
        "\n",
        "plt.title('Annual PM10 Comparison of Seoul, Incheon, Suwon, and Ansan')\n",
        "plt.xlabel('Year')\n",
        "plt.ylabel('PM10 Concentration')\n",
        "plt.legend()\n",
        "plt.grid(True)\n",
        "plt.show()\n",
        "#연도별 각 지역의 미세먼지 농도를 비교해 본 결과 안산이 가장 높았고 그 다음 수원, 서울, 인천 순이었다."
      ],
      "metadata": {
        "id": "-gspQnsKveTo"
      },
      "execution_count": null,
      "outputs": []
    },
    {
      "cell_type": "code",
      "source": [
        "#이번엔 서울지역의 연도별 오존 농도를 시각화해보기로 함\n",
        "import pandas as pd\n",
        "import matplotlib.pyplot as plt\n",
        "import datetime\n",
        "\n",
        "if not pd.api.types.is_datetime64_any_dtype(df['date']):\n",
        "    df['date'] = pd.to_datetime(df['date'])\n",
        "\n",
        "df['year'] = df['date'].dt.year\n",
        "\n",
        "yearly_Oz = df.groupby('year')['Ozone_seoul'].mean()\n",
        "\n",
        "plt.figure(figsize=(12, 6))\n",
        "# 'Ozone_seoul' is not a column in yearly_Oz, it is the values of the Series\n",
        "plt.plot(yearly_Oz.index, yearly_Oz.values, marker='o', label='Ozone')\n",
        "\n",
        "plt.title('Annual Ozone Comparison of Seoul')\n",
        "plt.xlabel('Year')\n",
        "plt.ylabel('Ozone Concentration')\n",
        "plt.legend()\n",
        "plt.grid(True)\n",
        "plt.show()\n",
        "#서울의 오존 농도는 미세먼지와 다르게 증가하는 경향을 보였다."
      ],
      "metadata": {
        "id": "QfOS8bCsv3wE"
      },
      "execution_count": null,
      "outputs": []
    },
    {
      "cell_type": "code",
      "source": [
        "#이번엔 서울지역의 연도별 이산화탄소 농도를 시각화해보기로 함\n",
        "import pandas as pd\n",
        "import matplotlib.pyplot as plt\n",
        "import datetime\n",
        "\n",
        "if not pd.api.types.is_datetime64_any_dtype(df['date']):\n",
        "    df['date'] = pd.to_datetime(df['date'])\n",
        "\n",
        "df['year'] = df['date'].dt.year\n",
        "\n",
        "yearly_CO = df.groupby('year')['CO_seoul'].mean()\n",
        "yearly_SO2 = df.groupby('year')['SO2_seoul'].mean()\n",
        "yearly_NO2 = df.groupby('year')['NO2_seoul'].mean()\n",
        "\n",
        "plt.figure(figsize=(12, 6))\n",
        "# 'Ozone_seoul' is not a column in yearly_Oz, it is the values of the Series\n",
        "plt.plot(yearly_CO.index, yearly_Oz.values, marker='o', label='CO')\n",
        "plt.plot(yearly_SO2.index, yearly_Oz.values, marker='o', label='SO2')\n",
        "plt.plot(yearly_NO2.index, yearly_Oz.values, marker='o', label='NO2')\n",
        "\n",
        "plt.title('Annual NO2 Comparison of Seoul')\n",
        "plt.xlabel('Year')\n",
        "plt.ylabel('NO2 Concentration')\n",
        "plt.legend()\n",
        "plt.grid(True)\n",
        "plt.show()\n",
        "#NO2는 해년마다 증가하는 추세였음"
      ],
      "metadata": {
        "id": "geJ1DFOH3GXD"
      },
      "execution_count": null,
      "outputs": []
    },
    {
      "cell_type": "code",
      "source": [
        "import pandas as pd\n",
        "import matplotlib.pyplot as plt\n",
        "import datetime\n",
        "\n",
        "if not pd.api.types.is_datetime64_any_dtype(df['date']):\n",
        "    df['date'] = pd.to_datetime(df['date'])\n",
        "\n",
        "df['year'] = df['date'].dt.year\n",
        "\n",
        "yearly_CO = df.groupby('year')['CO_seoul'].mean()\n",
        "\n",
        "plt.figure(figsize=(12, 6))\n",
        "# 'Ozone_seoul' is not a column in yearly_Oz, it is the values of the Series\n",
        "plt.plot(yearly_CO.index, yearly_Oz.values, marker='o', label='CO')\n",
        "\n",
        "plt.title('Annual CO Comparison of Seoul')\n",
        "plt.xlabel('Year')\n",
        "plt.ylabel('CO Concentration')\n",
        "plt.legend()\n",
        "plt.grid(True)\n",
        "plt.show()"
      ],
      "metadata": {
        "id": "O6lGXZ2L_1br"
      },
      "execution_count": null,
      "outputs": []
    },
    {
      "cell_type": "code",
      "source": [],
      "metadata": {
        "id": "Btd1_1nTAMGZ"
      },
      "execution_count": null,
      "outputs": []
    }
  ]
}